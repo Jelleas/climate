{
 "cells": [
  {
   "cell_type": "markdown",
   "metadata": {},
   "source": [
    "# Climate\n",
    "\n",
    "![](temperature.png)\n",
    "\n",
    "Laten we een steentje bijdragen aan de klimaatdiscussie en data analyseren die door de ECA (European Climate Assessment) [beschikbaar](http://eca.knmi.nl/dailydata/predefinedseries.php) wordt gemaakt in grote data files. We beperken ons tot data die de maximumtemperatuur beschrijft voor elke dag in De Bilt sinds 1901.\n",
    "\n",
    "Werp een blik op `climate.data`, open het en lees bovenin hoe de data gecodeerd is.\n",
    "We gaan het data bestand analyseren en op basis van de data een aantal vragen beantwoorden. Dit alles presenteren we in een Jupyter Notebook.\n"
   ]
  },
  {
   "cell_type": "markdown",
   "metadata": {},
   "source": [
    "### Preprocessing\n",
    "Helaas steekt het data bestand op een orginele, niet standaard manier in elkaar. Dat betekent dat we niet direct gebruik kunnen maken van modules om data in te lezen en te verwerken. We zullen eerst een beetje moeten preprocessen, de data zo wegschrijven dat we er makkelijk mee kunnen werken.\n",
    "\n",
    "We willen dit in het `.csv` (Comma,Seperated,Values) formaat krijgen. Dat is een fijn formaat voor o.a. Excel, maar ook om op een makkelijke manier bestanden in te lezen met Python. De naam zegt het al, alle waardes in dit formaat zijn gescheiden door een komma. De eerste regel van het nieuwe `.csv` bestand, genaamd `climate.csv`, moet bestaan uit alle kolomnamen, gescheiden door een komma. De volgende regels moeten alle datapunten zijn, elk op één regel, waar alle waardes gescheiden zijn door een komma.\n",
    "\n",
    "Schrijf in onderstaande cell code dat `climate.data` opent, inleest, en wegschrijft als `climate.csv` in het juiste formaat. Zorg dat de eerste rij bestaat uit de kolomnamen, en de rijen daarop volgend uit alle waardes. Waardes scheid je door een komma, want anders zijn het ook geen Comma Seperated Values."
   ]
  },
  {
   "cell_type": "code",
   "execution_count": 2,
   "metadata": {},
   "outputs": [],
   "source": [
    "with open(\"climate.data\", \"r\") as dataFile, open(\"climate.csv\", \"w\") as csvFile:\n",
    "    # TODO\n",
    "    pass"
   ]
  },
  {
   "cell_type": "markdown",
   "metadata": {},
   "source": [
    "### Vraag 1: Wat zijn de meest extreme temperaturen?\n",
    "Tijd voor wat analyse! We gaan onderzoeken wat de maximale en minimale temperatuur gemeten is in De Bilt sinds het begin van de 20e eeuw. We gaan ook kijken op welke dagen dit was.\n",
    "\n",
    "Maak een nieuwe cell dat `climate.csv` opent en de maximale en minimale temperatuur vindt en uitprint. Dit doe je elk op een nieuwe regel, met daarnaast op welke dag deze temperatuur gemeten is. Als volgt:\n",
    "\n",
    "    De maximale temperatuur was 34.5 graden op 13 mei 1967\n",
    "    De minimale temperatuur was -1.0 graden op 7 aug 1990\n",
    "\n",
    "Bovenstaande antwoorden zijn natuurlijk fout, je moet zelf de juiste waarden vinden. Om je wat extra uit te dagen willen we ook de datum in het bovenstaande formaat hebben, met de maanden niet in cijfers, maar in 3 letters. Het is handig om hier een functie voor te schrijven!"
   ]
  },
  {
   "cell_type": "code",
   "execution_count": 9,
   "metadata": {},
   "outputs": [
    {
     "name": "stdout",
     "output_type": "stream",
     "text": [
      "None\n"
     ]
    }
   ],
   "source": [
    "import csv\n",
    "\n",
    "with open('climate.csv', \"r\") as csvFile:\n",
    "    reader = csv.DictReader(csvFile)\n",
    "    \n",
    "    # TODO\n",
    "    print(reader.fieldnames) # <- remove\n",
    "    for line in reader: # <- remove\n",
    "        print(line[\"TX\"]) # <- remove"
   ]
  },
  {
   "cell_type": "markdown",
   "metadata": {},
   "source": [
    "### Vraag 2: Wat was de langste vriesperiode?\n",
    "\n",
    "Schrijf in de cell hieronder code dat de lengte van de langste periode dat het aaneengesloten heeft gevroren (temperatuur onder de 0 graden Celsius) uitprint. Print daarnaast wat de laatste dag van deze vriesperiode was. Doe dit weer met de maand in 3 letters. Als volgt:\n",
    "\n",
    "    De langste vriesperiode is 12 dagen en eindigde op 29 jun 1999.\n",
    "    \n",
    "Natuurlijk was de langeste vriesperiode niet 12 dagen in juni in 1999! ;)"
   ]
  },
  {
   "cell_type": "code",
   "execution_count": 10,
   "metadata": {},
   "outputs": [],
   "source": [
    "# TODO"
   ]
  },
  {
   "cell_type": "markdown",
   "metadata": {},
   "source": [
    "### Vraag 3: Wanneer was de eerste hittegolf?\n",
    "\n",
    "We spreken in Nederland van een hittegolf als de temperatuur ten minste vijf dagen achtereen minstens 25 graden Celsius was (zomerse dagen) waarvan ten minste op drie dagen 30 graden Celsius of meer (tropische dagen). Schrijf code in de cell hieronder die uitprint wat het *eerste* jaartal is waarin er sprake was van een hittegolf volgens deze regels."
   ]
  },
  {
   "cell_type": "code",
   "execution_count": null,
   "metadata": {},
   "outputs": [],
   "source": [
    "# TODO"
   ]
  }
 ],
 "metadata": {
  "kernelspec": {
   "display_name": "Python 3",
   "language": "python",
   "name": "python3"
  },
  "language_info": {
   "codemirror_mode": {
    "name": "ipython",
    "version": 3
   },
   "file_extension": ".py",
   "mimetype": "text/x-python",
   "name": "python",
   "nbconvert_exporter": "python",
   "pygments_lexer": "ipython3",
   "version": "3.6.2"
  }
 },
 "nbformat": 4,
 "nbformat_minor": 2
}
